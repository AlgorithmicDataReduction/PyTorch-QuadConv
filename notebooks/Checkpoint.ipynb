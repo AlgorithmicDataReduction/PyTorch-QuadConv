{
 "cells": [
  {
   "cell_type": "markdown",
   "id": "83dd226d",
   "metadata": {},
   "source": [
    "# Relative Reconstruction Error"
   ]
  },
  {
   "cell_type": "code",
   "execution_count": 2,
   "id": "45bc2ecb",
   "metadata": {},
   "outputs": [],
   "source": [
    "import torch\n",
    "import pytorch_lightning as pl\n",
    "import numpy as np\n",
    "from core.mesh_data import DataModule\n",
    "from core.VCAE.model import Model"
   ]
  },
  {
   "cell_type": "code",
   "execution_count": 11,
   "id": "6e43ceb3",
   "metadata": {},
   "outputs": [
    {
     "name": "stderr",
     "output_type": "stream",
     "text": [
      "GPU available: True (cuda), used: True\n",
      "TPU available: False, using: 0 TPU cores\n",
      "IPU available: False, using: 0 IPUs\n",
      "HPU available: False, using: 0 HPUs\n"
     ]
    }
   ],
   "source": [
    "dm = DataModule(data_dir='../data/ignition_mesh',\n",
    "                spatial_dim=2,\n",
    "                num_points=9074,\n",
    "                batch_size=128,\n",
    "                channels=[1])\n",
    "\n",
    "trainer = pl.Trainer(accelerator='gpu', devices=1, logger=False)\n",
    "\n",
    "conv_params = {\"in_channels\":[1,16],\n",
    "                \"out_channels\":[16,16],\n",
    "                \"kernel_size\":[3],\n",
    "                \"bias\":[False],\n",
    "                \"padding\": [\"same\"]}\n",
    "\n",
    "path = 'ignition/vcae_pool/version_0/checkpoints/epoch=3627.ckpt'\n",
    "model = Model.load_from_checkpoint('../lightning_logs/'+path,\n",
    "                                  data_info=dm.get_data_info(),\n",
    "                                  conv_params=conv_params)"
   ]
  },
  {
   "cell_type": "code",
   "execution_count": 12,
   "id": "1d14bf8b",
   "metadata": {},
   "outputs": [
    {
     "name": "stderr",
     "output_type": "stream",
     "text": [
      "LOCAL_RANK: 0 - CUDA_VISIBLE_DEVICES: [0]\n"
     ]
    },
    {
     "data": {
      "application/vnd.jupyter.widget-view+json": {
       "model_id": "0954ebf8794e4df98dfb0539a8b65414",
       "version_major": 2,
       "version_minor": 0
      },
      "text/plain": [
       "Testing: 0it [00:00, ?it/s]"
      ]
     },
     "metadata": {},
     "output_type": "display_data"
    },
    {
     "name": "stdout",
     "output_type": "stream",
     "text": [
      "────────────────────────────────────────────────────────────────────────────────────────────────────────────────────────\n",
      "       Test metric             DataLoader 0\n",
      "────────────────────────────────────────────────────────────────────────────────────────────────────────────────────────\n",
      "      test_avg_err          0.05885091423988342\n",
      "      test_max_err          0.10330650210380554\n",
      "────────────────────────────────────────────────────────────────────────────────────────────────────────────────────────\n"
     ]
    }
   ],
   "source": [
    "out = trainer.test(model=model, datamodule=dm)"
   ]
  },
  {
   "cell_type": "markdown",
   "id": "7bc83501",
   "metadata": {},
   "source": [
    "# Images/GIFs"
   ]
  },
  {
   "cell_type": "code",
   "execution_count": 4,
   "id": "9b871601",
   "metadata": {},
   "outputs": [],
   "source": [
    "import gif\n",
    "import matplotlib.pyplot as plt"
   ]
  },
  {
   "cell_type": "code",
   "execution_count": 5,
   "id": "eb7b1531",
   "metadata": {
    "scrolled": true
   },
   "outputs": [
    {
     "name": "stderr",
     "output_type": "stream",
     "text": [
      "LOCAL_RANK: 0 - CUDA_VISIBLE_DEVICES: [0]\n"
     ]
    },
    {
     "data": {
      "application/vnd.jupyter.widget-view+json": {
       "model_id": "327553cb51c9423f807edac4671893d6",
       "version_major": 2,
       "version_minor": 0
      },
      "text/plain": [
       "Predicting: 0it [00:00, ?it/s]"
      ]
     },
     "metadata": {},
     "output_type": "display_data"
    },
    {
     "ename": "RuntimeError",
     "evalue": "The size of tensor a (25) must match the size of tensor b (50) at non-singleton dimension 1",
     "output_type": "error",
     "traceback": [
      "\u001b[0;31m---------------------------------------------------------------------------\u001b[0m",
      "\u001b[0;31mRuntimeError\u001b[0m                              Traceback (most recent call last)",
      "Input \u001b[0;32mIn [5]\u001b[0m, in \u001b[0;36m<cell line: 3>\u001b[0;34m()\u001b[0m\n\u001b[1;32m      1\u001b[0m pred \u001b[38;5;241m=\u001b[39m trainer\u001b[38;5;241m.\u001b[39mpredict(model\u001b[38;5;241m=\u001b[39mmodel, datamodule\u001b[38;5;241m=\u001b[39mdm)\n\u001b[1;32m      2\u001b[0m dm\u001b[38;5;241m.\u001b[39mdata_shape \u001b[38;5;241m=\u001b[39m [\u001b[38;5;241m50\u001b[39m,\u001b[38;5;241m50\u001b[39m]\n\u001b[0;32m----> 3\u001b[0m pred \u001b[38;5;241m=\u001b[39m \u001b[43mdm\u001b[49m\u001b[38;5;241;43m.\u001b[39;49m\u001b[43magglomerate\u001b[49m\u001b[43m(\u001b[49m\u001b[43mpred\u001b[49m\u001b[43m)\u001b[49m\n",
      "File \u001b[0;32m~/Documents/Research/ASCR-Compression/QuadConv/core/data.py:242\u001b[0m, in \u001b[0;36mGridDataModule.agglomerate\u001b[0;34m(self, data)\u001b[0m\n\u001b[1;32m    239\u001b[0m data \u001b[38;5;241m=\u001b[39m data\u001b[38;5;241m.\u001b[39mreshape(\u001b[38;5;241m-\u001b[39m\u001b[38;5;241m1\u001b[39m, \u001b[38;5;28mself\u001b[39m\u001b[38;5;241m.\u001b[39mnum_tiles, \u001b[38;5;28mself\u001b[39m\u001b[38;5;241m.\u001b[39mnum_tiles, \u001b[38;5;28mself\u001b[39m\u001b[38;5;241m.\u001b[39msize, \u001b[38;5;28mself\u001b[39m\u001b[38;5;241m.\u001b[39msize)\n\u001b[1;32m    241\u001b[0m \u001b[38;5;66;03m#create mask\u001b[39;00m\n\u001b[0;32m--> 242\u001b[0m mask \u001b[38;5;241m=\u001b[39m \u001b[38;5;28;43mself\u001b[39;49m\u001b[38;5;241;43m.\u001b[39;49m\u001b[43m_stitch\u001b[49m\u001b[43m(\u001b[49m\u001b[43mtorch\u001b[49m\u001b[38;5;241;43m.\u001b[39;49m\u001b[43mones\u001b[49m\u001b[43m(\u001b[49m\u001b[38;5;241;43m1\u001b[39;49m\u001b[43m,\u001b[49m\u001b[43m \u001b[49m\u001b[38;5;28;43mself\u001b[39;49m\u001b[38;5;241;43m.\u001b[39;49m\u001b[43mnum_tiles\u001b[49m\u001b[43m,\u001b[49m\u001b[43m \u001b[49m\u001b[38;5;28;43mself\u001b[39;49m\u001b[38;5;241;43m.\u001b[39;49m\u001b[43mnum_tiles\u001b[49m\u001b[43m,\u001b[49m\u001b[43m \u001b[49m\u001b[38;5;28;43mself\u001b[39;49m\u001b[38;5;241;43m.\u001b[39;49m\u001b[43msize\u001b[49m\u001b[43m,\u001b[49m\u001b[43m \u001b[49m\u001b[38;5;28;43mself\u001b[39;49m\u001b[38;5;241;43m.\u001b[39;49m\u001b[43msize\u001b[49m\u001b[43m)\u001b[49m\u001b[43m)\u001b[49m\n\u001b[1;32m    244\u001b[0m \u001b[38;5;66;03m#\u001b[39;00m\n\u001b[1;32m    245\u001b[0m quilt \u001b[38;5;241m=\u001b[39m \u001b[38;5;28mself\u001b[39m\u001b[38;5;241m.\u001b[39m_stitch(data)\n",
      "File \u001b[0;32m~/Documents/Research/ASCR-Compression/QuadConv/core/data.py:227\u001b[0m, in \u001b[0;36mGridDataModule._stitch\u001b[0;34m(self, data)\u001b[0m\n\u001b[1;32m    225\u001b[0m     \u001b[38;5;28;01mfor\u001b[39;00m j \u001b[38;5;129;01min\u001b[39;00m \u001b[38;5;28mrange\u001b[39m(\u001b[38;5;28mself\u001b[39m\u001b[38;5;241m.\u001b[39mnum_tiles):\n\u001b[1;32m    226\u001b[0m         \u001b[38;5;28;01mfor\u001b[39;00m k \u001b[38;5;129;01min\u001b[39;00m \u001b[38;5;28mrange\u001b[39m(\u001b[38;5;28mself\u001b[39m\u001b[38;5;241m.\u001b[39mnum_tiles):\n\u001b[0;32m--> 227\u001b[0m             processed[i,\u001b[38;5;28mself\u001b[39m\u001b[38;5;241m.\u001b[39mstride\u001b[38;5;241m*\u001b[39mj:\u001b[38;5;28mself\u001b[39m\u001b[38;5;241m.\u001b[39mstride\u001b[38;5;241m*\u001b[39mj\u001b[38;5;241m+\u001b[39m\u001b[38;5;28mself\u001b[39m\u001b[38;5;241m.\u001b[39msize,\u001b[38;5;28mself\u001b[39m\u001b[38;5;241m.\u001b[39mstride\u001b[38;5;241m*\u001b[39mk:\u001b[38;5;28mself\u001b[39m\u001b[38;5;241m.\u001b[39mstride\u001b[38;5;241m*\u001b[39mk\u001b[38;5;241m+\u001b[39m\u001b[38;5;28mself\u001b[39m\u001b[38;5;241m.\u001b[39msize] \u001b[38;5;241m+\u001b[39m\u001b[38;5;241m=\u001b[39m data[i,j,k,:,:]\n\u001b[1;32m    229\u001b[0m \u001b[38;5;28;01mreturn\u001b[39;00m processed\n",
      "\u001b[0;31mRuntimeError\u001b[0m: The size of tensor a (25) must match the size of tensor b (50) at non-singleton dimension 1"
     ]
    }
   ],
   "source": [
    "pred = trainer.predict(model=model, datamodule=dm)"
   ]
  },
  {
   "cell_type": "code",
   "execution_count": 9,
   "id": "e21c7e03",
   "metadata": {},
   "outputs": [
    {
     "data": {
      "text/plain": [
       "torch.Size([512, 1, 2500])"
      ]
     },
     "execution_count": 9,
     "metadata": {},
     "output_type": "execute_result"
    }
   ],
   "source": [
    "pred[0].shape"
   ]
  },
  {
   "cell_type": "code",
   "execution_count": 10,
   "id": "905ddf49",
   "metadata": {},
   "outputs": [
    {
     "ename": "RuntimeError",
     "evalue": "The size of tensor a (25) must match the size of tensor b (50) at non-singleton dimension 1",
     "output_type": "error",
     "traceback": [
      "\u001b[0;31m---------------------------------------------------------------------------\u001b[0m",
      "\u001b[0;31mRuntimeError\u001b[0m                              Traceback (most recent call last)",
      "Input \u001b[0;32mIn [10]\u001b[0m, in \u001b[0;36m<cell line: 2>\u001b[0;34m()\u001b[0m\n\u001b[1;32m      1\u001b[0m dm\u001b[38;5;241m.\u001b[39mdata_shape \u001b[38;5;241m=\u001b[39m [\u001b[38;5;241m50\u001b[39m,\u001b[38;5;241m50\u001b[39m]\n\u001b[0;32m----> 2\u001b[0m pred \u001b[38;5;241m=\u001b[39m \u001b[43mdm\u001b[49m\u001b[38;5;241;43m.\u001b[39;49m\u001b[43magglomerate\u001b[49m\u001b[43m(\u001b[49m\u001b[43mpred\u001b[49m\u001b[43m)\u001b[49m\n",
      "File \u001b[0;32m~/Documents/Research/ASCR-Compression/QuadConv/core/data.py:242\u001b[0m, in \u001b[0;36mGridDataModule.agglomerate\u001b[0;34m(self, data)\u001b[0m\n\u001b[1;32m    239\u001b[0m data \u001b[38;5;241m=\u001b[39m data\u001b[38;5;241m.\u001b[39mreshape(\u001b[38;5;241m-\u001b[39m\u001b[38;5;241m1\u001b[39m, \u001b[38;5;28mself\u001b[39m\u001b[38;5;241m.\u001b[39mnum_tiles, \u001b[38;5;28mself\u001b[39m\u001b[38;5;241m.\u001b[39mnum_tiles, \u001b[38;5;28mself\u001b[39m\u001b[38;5;241m.\u001b[39msize, \u001b[38;5;28mself\u001b[39m\u001b[38;5;241m.\u001b[39msize)\n\u001b[1;32m    241\u001b[0m \u001b[38;5;66;03m#create mask\u001b[39;00m\n\u001b[0;32m--> 242\u001b[0m mask \u001b[38;5;241m=\u001b[39m \u001b[38;5;28;43mself\u001b[39;49m\u001b[38;5;241;43m.\u001b[39;49m\u001b[43m_stitch\u001b[49m\u001b[43m(\u001b[49m\u001b[43mtorch\u001b[49m\u001b[38;5;241;43m.\u001b[39;49m\u001b[43mones\u001b[49m\u001b[43m(\u001b[49m\u001b[38;5;241;43m1\u001b[39;49m\u001b[43m,\u001b[49m\u001b[43m \u001b[49m\u001b[38;5;28;43mself\u001b[39;49m\u001b[38;5;241;43m.\u001b[39;49m\u001b[43mnum_tiles\u001b[49m\u001b[43m,\u001b[49m\u001b[43m \u001b[49m\u001b[38;5;28;43mself\u001b[39;49m\u001b[38;5;241;43m.\u001b[39;49m\u001b[43mnum_tiles\u001b[49m\u001b[43m,\u001b[49m\u001b[43m \u001b[49m\u001b[38;5;28;43mself\u001b[39;49m\u001b[38;5;241;43m.\u001b[39;49m\u001b[43msize\u001b[49m\u001b[43m,\u001b[49m\u001b[43m \u001b[49m\u001b[38;5;28;43mself\u001b[39;49m\u001b[38;5;241;43m.\u001b[39;49m\u001b[43msize\u001b[49m\u001b[43m)\u001b[49m\u001b[43m)\u001b[49m\n\u001b[1;32m    244\u001b[0m \u001b[38;5;66;03m#\u001b[39;00m\n\u001b[1;32m    245\u001b[0m quilt \u001b[38;5;241m=\u001b[39m \u001b[38;5;28mself\u001b[39m\u001b[38;5;241m.\u001b[39m_stitch(data)\n",
      "File \u001b[0;32m~/Documents/Research/ASCR-Compression/QuadConv/core/data.py:227\u001b[0m, in \u001b[0;36mGridDataModule._stitch\u001b[0;34m(self, data)\u001b[0m\n\u001b[1;32m    225\u001b[0m     \u001b[38;5;28;01mfor\u001b[39;00m j \u001b[38;5;129;01min\u001b[39;00m \u001b[38;5;28mrange\u001b[39m(\u001b[38;5;28mself\u001b[39m\u001b[38;5;241m.\u001b[39mnum_tiles):\n\u001b[1;32m    226\u001b[0m         \u001b[38;5;28;01mfor\u001b[39;00m k \u001b[38;5;129;01min\u001b[39;00m \u001b[38;5;28mrange\u001b[39m(\u001b[38;5;28mself\u001b[39m\u001b[38;5;241m.\u001b[39mnum_tiles):\n\u001b[0;32m--> 227\u001b[0m             processed[i,\u001b[38;5;28mself\u001b[39m\u001b[38;5;241m.\u001b[39mstride\u001b[38;5;241m*\u001b[39mj:\u001b[38;5;28mself\u001b[39m\u001b[38;5;241m.\u001b[39mstride\u001b[38;5;241m*\u001b[39mj\u001b[38;5;241m+\u001b[39m\u001b[38;5;28mself\u001b[39m\u001b[38;5;241m.\u001b[39msize,\u001b[38;5;28mself\u001b[39m\u001b[38;5;241m.\u001b[39mstride\u001b[38;5;241m*\u001b[39mk:\u001b[38;5;28mself\u001b[39m\u001b[38;5;241m.\u001b[39mstride\u001b[38;5;241m*\u001b[39mk\u001b[38;5;241m+\u001b[39m\u001b[38;5;28mself\u001b[39m\u001b[38;5;241m.\u001b[39msize] \u001b[38;5;241m+\u001b[39m\u001b[38;5;241m=\u001b[39m data[i,j,k,:,:]\n\u001b[1;32m    229\u001b[0m \u001b[38;5;28;01mreturn\u001b[39;00m processed\n",
      "\u001b[0;31mRuntimeError\u001b[0m: The size of tensor a (25) must match the size of tensor b (50) at non-singleton dimension 1"
     ]
    }
   ],
   "source": [
    "dm.data_shape = [50,50]\n",
    "pred = dm.agglomerate(pred)"
   ]
  },
  {
   "cell_type": "markdown",
   "id": "aa39990b",
   "metadata": {},
   "source": [
    "## Raw data"
   ]
  },
  {
   "cell_type": "code",
   "execution_count": 8,
   "id": "91539601",
   "metadata": {},
   "outputs": [],
   "source": [
    "domain = 'ignition_square'\n",
    "data_dir = f'data/{domain}/train.npy'\n",
    "\n",
    "data = torch.from_numpy(np.float32(np.load(data_dir)))\n",
    "data = data[...,1]\n",
    "\n",
    "mean = torch.mean(data, dim=(0,1,2), keepdim=True)\n",
    "stdv = torch.sqrt(torch.var(data, dim=(0,1,2), keepdim=True))\n",
    "stdv = torch.max(stdv, torch.tensor(1e-3))\n",
    "\n",
    "data = (data-mean)/stdv\n",
    "\n",
    "raw = data/(torch.max(np.abs(data))+1e-4)"
   ]
  },
  {
   "cell_type": "markdown",
   "id": "e8dbff05",
   "metadata": {},
   "source": [
    "## Make GIF"
   ]
  },
  {
   "cell_type": "code",
   "execution_count": 9,
   "id": "5846a28a",
   "metadata": {},
   "outputs": [],
   "source": [
    "@gif.frame\n",
    "def plot(i):\n",
    "    fig, ax = plt.subplots(1, 2, figsize=(10,10))\n",
    "    \n",
    "    ax[0].imshow(raw[i,:,:], vmin=-1, vmax=1, origin='lower')\n",
    "    ax[0].set_title(\"Raw Data\")\n",
    "    \n",
    "    ax[1].imshow(pred[i,:,:], vmin=-1, vmax=1, origin='lower')\n",
    "    ax[1].set_title(\"Reconstructed\")"
   ]
  },
  {
   "cell_type": "code",
   "execution_count": 10,
   "id": "e0e29022",
   "metadata": {},
   "outputs": [],
   "source": [
    "block = [i for i in range(0, 250)]\n",
    "frames = [plot(i) for i in block]    \n",
    "gif.save(frames, f'train.gif', duration=100)"
   ]
  },
  {
   "cell_type": "markdown",
   "id": "70a6ee03",
   "metadata": {},
   "source": [
    "## Make Image"
   ]
  },
  {
   "cell_type": "code",
   "execution_count": 12,
   "id": "5997d163",
   "metadata": {},
   "outputs": [
    {
     "data": {
      "text/plain": [
       "Text(0.5, 1.0, 'Reconstructed')"
      ]
     },
     "execution_count": 12,
     "metadata": {},
     "output_type": "execute_result"
    },
    {
     "data": {
      "image/png": "[encoded data removed]",
      "text/plain": [
       "<Figure size 720x720 with 2 Axes>"
      ]
     },
     "metadata": {
      "needs_background": "light"
     },
     "output_type": "display_data"
    }
   ],
   "source": [
    "t = 0\n",
    "\n",
    "fig, ax = plt.subplots(1, 2, figsize=(10,10))\n",
    "    \n",
    "ax[0].imshow(raw[t,:,:], vmin=-1, vmax=1, origin='lower')\n",
    "ax[0].set_title(\"Raw Data\")\n",
    "\n",
    "ax[1].imshow(pred[t,:,:], vmin=-1, vmax=1, origin='lower')\n",
    "ax[1].set_title(\"Reconstructed\")"
   ]
  },
  {
   "cell_type": "code",
   "execution_count": 13,
   "id": "7d29afc6",
   "metadata": {},
   "outputs": [],
   "source": [
    "fig.savefig(f\"error_{t}.png\")"
   ]
  },
  {
   "cell_type": "code",
   "execution_count": null,
   "id": "2afff8d6",
   "metadata": {},
   "outputs": [],
   "source": []
  }
 ],
 "metadata": {
  "kernelspec": {
   "display_name": "Python 3 (ipykernel)",
   "language": "python",
   "name": "python3"
  },
  "language_info": {
   "codemirror_mode": {
    "name": "ipython",
    "version": 3
   },
   "file_extension": ".py",
   "mimetype": "text/x-python",
   "name": "python",
   "nbconvert_exporter": "python",
   "pygments_lexer": "ipython3",
   "version": "3.9.12"
  }
 },
 "nbformat": 4,
 "nbformat_minor": 5
}
