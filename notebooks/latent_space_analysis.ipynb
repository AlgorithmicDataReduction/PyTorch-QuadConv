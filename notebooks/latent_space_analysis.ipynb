{
 "cells": [
  {
   "cell_type": "markdown",
   "metadata": {},
   "source": [
    "# Viz Notebook"
   ]
  },
  {
   "cell_type": "markdown",
   "metadata": {},
   "source": [
    "## Import modules "
   ]
  },
  {
   "cell_type": "code",
   "execution_count": 1,
   "metadata": {},
   "outputs": [],
   "source": [
    "import numpy as np\n",
    "import torch\n",
    "import gif\n",
    "import matplotlib.pyplot as plt\n",
    "import pytorch_lightning as pl \n",
    "from pathlib import Path\n",
    "import yaml\n",
    "import matplotlib.ticker as ticker\n",
    "import matplotlib.colors as colors\n",
    "\n",
    "import time\n",
    "\n",
    "\n",
    "from core.autoencoder import AutoEncoder\n",
    "from core.structured_data import GridDataModule"
   ]
  },
  {
   "cell_type": "markdown",
   "metadata": {},
   "source": [
    "## Define and load the model/data to analyze here\n",
    "You'll need to specify the yaml which created the model and the folder which contains the checkpoints for the model (this will switch to just the checkpoints in the future)"
   ]
  },
  {
   "cell_type": "code",
   "execution_count": 2,
   "metadata": {},
   "outputs": [
    {
     "name": "stdout",
     "output_type": "stream",
     "text": [
      "Loading experiment ignition_maxskip_qcnn and C:\\Users\\Kevin\\Google Drive\\Research\\QuadConv\\lightning_logs\\ignition_maxskip_qcnn\\version_21\\checkpoints\\epoch=4886.ckpt \n"
     ]
    },
    {
     "data": {
      "text/plain": [
       "AutoEncoder(\n",
       "  (loss_fn): SobolevLoss()\n",
       "  (output_activation): Tanh()\n",
       "  (encoder): Encoder(\n",
       "    (activation1): CELU(alpha=1.0)\n",
       "    (activation2): CELU(alpha=1.0)\n",
       "    (cnn): Sequential(\n",
       "      (0): QuadConvLayer(\n",
       "        (G): Sequential(\n",
       "          (0): Linear(in_features=2, out_features=16, bias=False)\n",
       "          (1): Sin()\n",
       "          (2): Linear(in_features=16, out_features=16, bias=False)\n",
       "          (3): Sin()\n",
       "          (4): Linear(in_features=16, out_features=16, bias=False)\n",
       "          (5): Sin()\n",
       "          (6): Linear(in_features=16, out_features=16, bias=False)\n",
       "          (7): Unflatten(dim=1, unflattened_size=(1, 16))\n",
       "        )\n",
       "      )\n",
       "      (1): PoolQuadConvBlock(\n",
       "        (resample): MaxPool2d(kernel_size=2, stride=2, padding=0, dilation=1, ceil_mode=False)\n",
       "        (conv1): QuadConvLayer(\n",
       "          (G): Sequential(\n",
       "            (0): Linear(in_features=2, out_features=16, bias=False)\n",
       "            (1): Sin()\n",
       "            (2): Linear(in_features=16, out_features=16, bias=False)\n",
       "            (3): Sin()\n",
       "            (4): Linear(in_features=16, out_features=16, bias=False)\n",
       "            (5): Sin()\n",
       "            (6): Linear(in_features=16, out_features=256, bias=False)\n",
       "            (7): Unflatten(dim=1, unflattened_size=(16, 16))\n",
       "          )\n",
       "        )\n",
       "        (batchnorm1): InstanceNorm1d(16, eps=1e-05, momentum=0.1, affine=False, track_running_stats=False)\n",
       "        (activation1): CELU(alpha=1.0)\n",
       "        (conv2): QuadConvLayer(\n",
       "          (G): Sequential(\n",
       "            (0): Linear(in_features=2, out_features=16, bias=False)\n",
       "            (1): Sin()\n",
       "            (2): Linear(in_features=16, out_features=16, bias=False)\n",
       "            (3): Sin()\n",
       "            (4): Linear(in_features=16, out_features=16, bias=False)\n",
       "            (5): Sin()\n",
       "            (6): Linear(in_features=16, out_features=256, bias=False)\n",
       "            (7): Unflatten(dim=1, unflattened_size=(16, 16))\n",
       "          )\n",
       "        )\n",
       "        (batchnorm2): InstanceNorm1d(16, eps=1e-05, momentum=0.1, affine=False, track_running_stats=False)\n",
       "        (activation2): CELU(alpha=1.0)\n",
       "      )\n",
       "    )\n",
       "    (flat): Flatten(start_dim=1, end_dim=-1)\n",
       "    (linear): Sequential(\n",
       "      (0): ParametrizedLinear(\n",
       "        in_features=10000, out_features=50, bias=True\n",
       "        (parametrizations): ModuleDict(\n",
       "          (weight): ParametrizationList(\n",
       "            (0): _SpectralNorm()\n",
       "          )\n",
       "        )\n",
       "      )\n",
       "      (1): CELU(alpha=1.0)\n",
       "      (2): ParametrizedLinear(\n",
       "        in_features=50, out_features=50, bias=True\n",
       "        (parametrizations): ModuleDict(\n",
       "          (weight): ParametrizationList(\n",
       "            (0): _SpectralNorm()\n",
       "          )\n",
       "        )\n",
       "      )\n",
       "      (3): CELU(alpha=1.0)\n",
       "    )\n",
       "  )\n",
       "  (decoder): Decoder(\n",
       "    (activation1): CELU(alpha=1.0)\n",
       "    (activation2): CELU(alpha=1.0)\n",
       "    (unflat): Unflatten(dim=1, unflattened_size=torch.Size([16, 625]))\n",
       "    (linear): Sequential(\n",
       "      (0): ParametrizedLinear(\n",
       "        in_features=50, out_features=50, bias=True\n",
       "        (parametrizations): ModuleDict(\n",
       "          (weight): ParametrizationList(\n",
       "            (0): _SpectralNorm()\n",
       "          )\n",
       "        )\n",
       "      )\n",
       "      (1): CELU(alpha=1.0)\n",
       "      (2): ParametrizedLinear(\n",
       "        in_features=50, out_features=10000, bias=True\n",
       "        (parametrizations): ModuleDict(\n",
       "          (weight): ParametrizationList(\n",
       "            (0): _SpectralNorm()\n",
       "          )\n",
       "        )\n",
       "      )\n",
       "      (3): CELU(alpha=1.0)\n",
       "    )\n",
       "    (cnn): Sequential(\n",
       "      (0): PoolQuadConvBlock(\n",
       "        (resample): Upsample(scale_factor=2.0, mode=nearest)\n",
       "        (conv1): QuadConvLayer(\n",
       "          (G): Sequential(\n",
       "            (0): Linear(in_features=2, out_features=16, bias=False)\n",
       "            (1): Sin()\n",
       "            (2): Linear(in_features=16, out_features=16, bias=False)\n",
       "            (3): Sin()\n",
       "            (4): Linear(in_features=16, out_features=16, bias=False)\n",
       "            (5): Sin()\n",
       "            (6): Linear(in_features=16, out_features=256, bias=False)\n",
       "            (7): Unflatten(dim=1, unflattened_size=(16, 16))\n",
       "          )\n",
       "        )\n",
       "        (batchnorm1): InstanceNorm1d(16, eps=1e-05, momentum=0.1, affine=False, track_running_stats=False)\n",
       "        (activation1): CELU(alpha=1.0)\n",
       "        (conv2): QuadConvLayer(\n",
       "          (G): Sequential(\n",
       "            (0): Linear(in_features=2, out_features=16, bias=False)\n",
       "            (1): Sin()\n",
       "            (2): Linear(in_features=16, out_features=16, bias=False)\n",
       "            (3): Sin()\n",
       "            (4): Linear(in_features=16, out_features=16, bias=False)\n",
       "            (5): Sin()\n",
       "            (6): Linear(in_features=16, out_features=256, bias=False)\n",
       "            (7): Unflatten(dim=1, unflattened_size=(16, 16))\n",
       "          )\n",
       "        )\n",
       "        (batchnorm2): InstanceNorm1d(16, eps=1e-05, momentum=0.1, affine=False, track_running_stats=False)\n",
       "        (activation2): CELU(alpha=1.0)\n",
       "      )\n",
       "      (1): QuadConvLayer(\n",
       "        (G): Sequential(\n",
       "          (0): Linear(in_features=2, out_features=16, bias=False)\n",
       "          (1): Sin()\n",
       "          (2): Linear(in_features=16, out_features=16, bias=False)\n",
       "          (3): Sin()\n",
       "          (4): Linear(in_features=16, out_features=16, bias=False)\n",
       "          (5): Sin()\n",
       "          (6): Linear(in_features=16, out_features=16, bias=False)\n",
       "          (7): Unflatten(dim=1, unflattened_size=(16, 1))\n",
       "        )\n",
       "      )\n",
       "    )\n",
       "  )\n",
       ")"
      ]
     },
     "execution_count": 2,
     "metadata": {},
     "output_type": "execute_result"
    }
   ],
   "source": [
    "#### Change the entries here to analyze a new model / dataset\n",
    "experiment_name = 'ignition_maxskip_qcnn'\n",
    "model_checkpoint_path = Path('C:\\\\Users\\\\Kevin\\\\Google Drive\\\\Research\\QuadConv\\\\lightning_logs\\\\ignition_maxskip_qcnn\\\\version_21') / 'checkpoints'\n",
    "input_shape = (1,1,2500)\n",
    "###################\n",
    "\n",
    "checkpoint = list(model_checkpoint_path.glob('epoch=*.ckpt'))\n",
    "\n",
    "print(f'Loading experiment {experiment_name} and {checkpoint[0]} ')\n",
    "\n",
    "experiment_path = Path('../experiments/')\n",
    "model_yml = list(experiment_path.rglob(experiment_name + '*'))\n",
    "\n",
    "with model_yml[0].open() as file:\n",
    "    config = yaml.safe_load(file)\n",
    "\n",
    "data_module = GridDataModule(**config['data'])\n",
    "data_module.setup(stage='analyze')\n",
    "dataset = data_module.analyze_data()\n",
    "\n",
    "#TODO Make a dataloader option that outputs 1 experiments worth of data\n",
    "\n",
    "model = AutoEncoder.load_from_checkpoint(checkpoint[0], input_shape=input_shape, **config['model'])\n",
    "model.eval()\n",
    "model.to('cpu')"
   ]
  },
  {
   "cell_type": "markdown",
   "metadata": {},
   "source": [
    "## Make and display the GIF associated with the dimension of the data"
   ]
  },
  {
   "cell_type": "markdown",
   "metadata": {},
   "source": [
    "#### Define relavent functions for GIF making\n"
   ]
  },
  {
   "cell_type": "code",
   "execution_count": 26,
   "metadata": {},
   "outputs": [],
   "source": [
    "@gif.frame\n",
    "def plot1d(d):\n",
    "    plt.plot(d)\n",
    "    plt.ylim(-1,1)\n",
    "\n",
    "@gif.frame\n",
    "def plot2d(d,vmin=-1,vmax=1, colorbar = False):\n",
    "    fig = plt.figure()\n",
    "    ax = plt.axes()\n",
    "    im = ax.imshow(d, vmin = vmin, vmax = vmax)\n",
    "    fig.set_facecolor((0.95,0.95,0.95))\n",
    "    ax.set_facecolor((0.95,0.95,0.95))\n",
    "    plt.axis('off')\n",
    "    \n",
    "    if colorbar:\n",
    "        plt.colorbar(im,pad=0.01,location=\"bottom\", shrink=0.63)\n",
    "\n",
    "def save_gif(data, gif_save_path, gif_name):\n",
    "\n",
    "    save_string = str((gif_save_path / gif_name).resolve())\n",
    "\n",
    "    frames = [plot1d(data[i,:] ) for i in range(data.shape[0])]\n",
    "\n",
    "    gif.save(frames, save_string , duration=50)\n"
   ]
  },
  {
   "cell_type": "markdown",
   "metadata": {},
   "source": [
    "#### Load and manipulate data"
   ]
  },
  {
   "cell_type": "code",
   "execution_count": 4,
   "metadata": {},
   "outputs": [],
   "source": [
    "\n",
    "save_path = model_checkpoint_path / '..' \n",
    "\n",
    "original_spatial_shape = data_module.original_shape[1:3]\n",
    "\n",
    "processed_data = model(dataset).detach().numpy()\n",
    "\n",
    "difference_norm = torch.sqrt((dataset - processed_data)**2)\n",
    "\n",
    "relative_difference_norm = difference_norm / torch.sqrt((dataset)**2)"
   ]
  },
  {
   "cell_type": "markdown",
   "metadata": {},
   "source": [
    "## Quantization"
   ]
  },
  {
   "cell_type": "code",
   "execution_count": 5,
   "metadata": {},
   "outputs": [],
   "source": [
    "compressed_data = model.compress(dataset)\n",
    "\n",
    "quantized_compressed_data = compressed_data.half().float()\n",
    "\n",
    "quantized_processed_data = model.decompress(quantized_compressed_data).detach().numpy()\n",
    "\n",
    "quantized_difference_norm = torch.sqrt((dataset - quantized_processed_data)**2)\n",
    "\n",
    "quantized_relative_difference_norm = quantized_difference_norm / torch.sqrt((dataset)**2)\n"
   ]
  },
  {
   "cell_type": "code",
   "execution_count": 7,
   "metadata": {},
   "outputs": [
    {
     "name": "stdout",
     "output_type": "stream",
     "text": [
      "torch.Size([450, 50])\n"
     ]
    }
   ],
   "source": [
    "print(quantized_compressed_data.shape)"
   ]
  },
  {
   "cell_type": "code",
   "execution_count": 60,
   "metadata": {},
   "outputs": [
    {
     "name": "stdout",
     "output_type": "stream",
     "text": [
      "tensor(60.6875, grad_fn=<MaxBackward1>)\n",
      "tensor(-1., grad_fn=<MinBackward1>)\n"
     ]
    }
   ],
   "source": [
    "rand_embedding = torch.randn(size=(50,1)) * (1/np.sqrt(50.))\n",
    "\n",
    "series = torch.matmul(quantized_compressed_data.reshape(450,50) , rand_embedding).detach().numpy()\n",
    "\n",
    "print(torch.max(quantized_compressed_data))\n",
    "print(torch.min(quantized_compressed_data))"
   ]
  },
  {
   "cell_type": "code",
   "execution_count": 61,
   "metadata": {},
   "outputs": [
    {
     "data": {
      "text/plain": [
       "(-22.450000000000003, 471.45, -25.71456356048584, 24.36123867034912)"
      ]
     },
     "execution_count": 61,
     "metadata": {},
     "output_type": "execute_result"
    },
    {
     "data": {
      "image/png": "[encoded data removed]",
      "text/plain": [
       "<Figure size 640x480 with 1 Axes>"
      ]
     },
     "metadata": {},
     "output_type": "display_data"
    }
   ],
   "source": [
    "%matplotlib inline\n",
    "\n",
    "fig = plt.figure()\n",
    "ax = plt.axes()\n",
    "\n",
    "for i in range(series.shape[1]):\n",
    "    ax.plot(series[:,i])\n",
    "\n",
    "fig.set_facecolor((0.95,0.95,0.95))\n",
    "ax.set_facecolor((0.95,0.95,0.95))\n",
    "plt.axis('off')"
   ]
  }
 ],
 "metadata": {
  "kernelspec": {
   "display_name": "Python 3.9.13 ('compression')",
   "language": "python",
   "name": "python3"
  },
  "language_info": {
   "codemirror_mode": {
    "name": "ipython",
    "version": 3
   },
   "file_extension": ".py",
   "mimetype": "text/x-python",
   "name": "python",
   "nbconvert_exporter": "python",
   "pygments_lexer": "ipython3",
   "version": "3.9.13"
  },
  "orig_nbformat": 4,
  "vscode": {
   "interpreter": {
    "hash": "3595a7518770cc8b1ad85cc2141b6c74689cb686027c0002cbed6be65131a405"
   }
  }
 },
 "nbformat": 4,
 "nbformat_minor": 2
}
