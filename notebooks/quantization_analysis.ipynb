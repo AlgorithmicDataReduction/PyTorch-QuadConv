{
 "cells": [
  {
   "cell_type": "markdown",
   "metadata": {},
   "source": [
    "# Quantization Analysis Notebook"
   ]
  },
  {
   "cell_type": "markdown",
   "metadata": {},
   "source": [
    "## Import modules "
   ]
  },
  {
   "cell_type": "code",
   "execution_count": 37,
   "metadata": {},
   "outputs": [],
   "source": [
    "import numpy as np\n",
    "import torch\n",
    "import gif\n",
    "import matplotlib.pyplot as plt\n",
    "import pytorch_lightning as pl \n",
    "from pathlib import Path\n",
    "import yaml\n",
    "import matplotlib.ticker as ticker\n",
    "import matplotlib.colors as colors\n",
    "\n",
    "from core.autoencoder import AutoEncoder\n",
    "from core.structured_data import GridDataModule"
   ]
  },
  {
   "cell_type": "markdown",
   "metadata": {},
   "source": [
    "## Define and load the model/data to analyze here\n",
    "You'll need to specify the yaml which created the model and the folder which contains the checkpoints for the model (this will switch to just the checkpoints in the future)"
   ]
  },
  {
   "cell_type": "code",
   "execution_count": 38,
   "metadata": {},
   "outputs": [
    {
     "name": "stdout",
     "output_type": "stream",
     "text": [
      "Loading experiment ignition_maxskip_cnn and C:\\Users\\Kevin\\Google Drive\\Research\\QuadConv\\lightning_logs\\ignition_maxskip_cnn\\version_5\\checkpoints\\epoch=4467.ckpt \n"
     ]
    },
    {
     "data": {
      "text/plain": [
       "AutoEncoder(\n",
       "  (loss_fn): SobolevLoss()\n",
       "  (output_activation): Tanh()\n",
       "  (encoder): Encoder(\n",
       "    (activation1): CELU(alpha=1.0)\n",
       "    (activation2): CELU(alpha=1.0)\n",
       "    (cnn): Sequential(\n",
       "      (0): Conv2d(1, 16, kernel_size=(3, 3), stride=(1, 1), padding=same, bias=False)\n",
       "      (1): PoolConvBlock(\n",
       "        (resample): MaxPool2d(kernel_size=2, stride=2, padding=0, dilation=1, ceil_mode=False)\n",
       "        (conv1): Conv2d(16, 16, kernel_size=(3, 3), stride=(1, 1), padding=same)\n",
       "        (batchnorm1): InstanceNorm2d(16, eps=1e-05, momentum=0.1, affine=False, track_running_stats=False)\n",
       "        (activation1): CELU(alpha=1.0)\n",
       "        (conv2): Conv2d(16, 16, kernel_size=(3, 3), stride=(1, 1), padding=same)\n",
       "        (batchnorm2): InstanceNorm2d(16, eps=1e-05, momentum=0.1, affine=False, track_running_stats=False)\n",
       "        (activation2): CELU(alpha=1.0)\n",
       "      )\n",
       "    )\n",
       "    (flat): Flatten(start_dim=1, end_dim=-1)\n",
       "    (linear): Sequential(\n",
       "      (0): ParametrizedLinear(\n",
       "        in_features=10000, out_features=50, bias=True\n",
       "        (parametrizations): ModuleDict(\n",
       "          (weight): ParametrizationList(\n",
       "            (0): _SpectralNorm()\n",
       "          )\n",
       "        )\n",
       "      )\n",
       "      (1): CELU(alpha=1.0)\n",
       "      (2): ParametrizedLinear(\n",
       "        in_features=50, out_features=50, bias=True\n",
       "        (parametrizations): ModuleDict(\n",
       "          (weight): ParametrizationList(\n",
       "            (0): _SpectralNorm()\n",
       "          )\n",
       "        )\n",
       "      )\n",
       "      (3): CELU(alpha=1.0)\n",
       "    )\n",
       "  )\n",
       "  (decoder): Decoder(\n",
       "    (activation1): CELU(alpha=1.0)\n",
       "    (activation2): CELU(alpha=1.0)\n",
       "    (unflat): Unflatten(dim=1, unflattened_size=torch.Size([16, 25, 25]))\n",
       "    (linear): Sequential(\n",
       "      (0): ParametrizedLinear(\n",
       "        in_features=50, out_features=50, bias=True\n",
       "        (parametrizations): ModuleDict(\n",
       "          (weight): ParametrizationList(\n",
       "            (0): _SpectralNorm()\n",
       "          )\n",
       "        )\n",
       "      )\n",
       "      (1): CELU(alpha=1.0)\n",
       "      (2): ParametrizedLinear(\n",
       "        in_features=50, out_features=10000, bias=True\n",
       "        (parametrizations): ModuleDict(\n",
       "          (weight): ParametrizationList(\n",
       "            (0): _SpectralNorm()\n",
       "          )\n",
       "        )\n",
       "      )\n",
       "      (3): CELU(alpha=1.0)\n",
       "    )\n",
       "    (cnn): Sequential(\n",
       "      (0): PoolConvBlock(\n",
       "        (resample): Upsample(scale_factor=2.0, mode=nearest)\n",
       "        (conv1): Conv2d(16, 16, kernel_size=(3, 3), stride=(1, 1), padding=same)\n",
       "        (batchnorm1): InstanceNorm2d(16, eps=1e-05, momentum=0.1, affine=False, track_running_stats=False)\n",
       "        (activation1): CELU(alpha=1.0)\n",
       "        (conv2): Conv2d(16, 16, kernel_size=(3, 3), stride=(1, 1), padding=same)\n",
       "        (batchnorm2): InstanceNorm2d(16, eps=1e-05, momentum=0.1, affine=False, track_running_stats=False)\n",
       "        (activation2): CELU(alpha=1.0)\n",
       "      )\n",
       "      (1): Conv2d(16, 1, kernel_size=(3, 3), stride=(1, 1), padding=same, bias=False)\n",
       "    )\n",
       "  )\n",
       ")"
      ]
     },
     "execution_count": 38,
     "metadata": {},
     "output_type": "execute_result"
    }
   ],
   "source": [
    "#### Change the entries here to analyze a new model / dataset\n",
    "experiment_name = 'ignition_maxskip_cnn'\n",
    "model_checkpoint_path = Path('C:\\\\Users\\\\Kevin\\\\Google Drive\\\\Research\\QuadConv\\\\lightning_logs\\\\ignition_maxskip_cnn\\\\version_5') / 'checkpoints'\n",
    "input_shape = (1,1,50,50)\n",
    "###################\n",
    "\n",
    "checkpoint = list(model_checkpoint_path.glob('epoch=*.ckpt'))\n",
    "\n",
    "print(f'Loading experiment {experiment_name} and {checkpoint[0]} ')\n",
    "\n",
    "experiment_path = Path('../experiments/')\n",
    "model_yml = list(experiment_path.rglob(experiment_name + '*'))\n",
    "\n",
    "with model_yml[0].open() as file:\n",
    "    config = yaml.safe_load(file)\n",
    "\n",
    "data_module = GridDataModule(**config['data'])\n",
    "data_module.setup(stage='analyze')\n",
    "dataset = data_module.analyze_data()\n",
    "\n",
    "#TODO Make a dataloader option that outputs 1 experiments worth of data\n",
    "\n",
    "model = AutoEncoder.load_from_checkpoint(checkpoint[0], input_shape=input_shape, **config['model'])\n",
    "model.eval()\n",
    "model.to('cpu')"
   ]
  },
  {
   "cell_type": "markdown",
   "metadata": {},
   "source": [
    "## Make and display the GIF associated with the dimension of the data"
   ]
  },
  {
   "cell_type": "markdown",
   "metadata": {},
   "source": [
    "#### Define relavent functions for GIF making\n"
   ]
  },
  {
   "cell_type": "code",
   "execution_count": 39,
   "metadata": {},
   "outputs": [],
   "source": [
    "\n",
    "@gif.frame\n",
    "def plot1d(d):\n",
    "    plt.plot(d)\n",
    "    plt.ylim(-1,1)\n",
    "\n",
    "@gif.frame\n",
    "def plot2d(d,vmin=-1,vmax=1):\n",
    "    plt.imshow(d, vmin=vmin, vmax=vmax, origin='lower')\n",
    "    plt.colorbar(location='top')\n",
    "\n",
    "def save_gif(data,original_spatial_shape, gif_save_path, gif_name,vmin=-1,vmax=1):\n",
    "\n",
    "    save_string = str((gif_save_path / gif_name).resolve())\n",
    "\n",
    "    if data_module.spatial_dim == 1:\n",
    "\n",
    "        frames = [plot1d(data[i,0,:].reshape(-1,1) ) for i in range(data.shape[0])]\n",
    "\n",
    "    elif data_module.spatial_dim == 2:\n",
    "\n",
    "        frames = [plot2d(data[i,0,:].reshape(*original_spatial_shape),vmin,vmax) for i in range(data.shape[0])]\n",
    "\n",
    "    gif.save(frames, save_string , duration=50)\n"
   ]
  },
  {
   "cell_type": "markdown",
   "metadata": {},
   "source": [
    "#### Load and manipulate data"
   ]
  },
  {
   "cell_type": "code",
   "execution_count": 40,
   "metadata": {},
   "outputs": [],
   "source": [
    "\n",
    "save_path = model_checkpoint_path / '..' \n",
    "\n",
    "original_spatial_shape = data_module.original_shape[1:3]\n",
    "\n",
    "processed_data = model(dataset).detach().numpy()\n",
    "\n",
    "difference_norm = torch.sqrt((dataset - processed_data)**2)\n",
    "\n",
    "relative_difference_norm = difference_norm / torch.sqrt((dataset)**2)"
   ]
  },
  {
   "cell_type": "markdown",
   "metadata": {},
   "source": [
    "## Quantization Tests"
   ]
  },
  {
   "cell_type": "code",
   "execution_count": 46,
   "metadata": {},
   "outputs": [],
   "source": [
    "compressed_data = model.compress(dataset)\n",
    "\n",
    "quantized_compressed_data = compressed_data.half().float()\n",
    "\n",
    "quantized_processed_data = model.decompress(quantized_compressed_data).detach().numpy()\n",
    "\n",
    "quantized_difference_norm = torch.sqrt((dataset - quantized_processed_data)**2)\n",
    "\n",
    "quantized_relative_difference_norm = quantized_difference_norm / torch.sqrt((dataset)**2)\n"
   ]
  },
  {
   "cell_type": "code",
   "execution_count": 47,
   "metadata": {},
   "outputs": [],
   "source": [
    "save_gif(quantized_processed_data,original_spatial_shape,save_path,'quantized_processed.gif')\n",
    "save_gif(quantized_difference_norm,original_spatial_shape,save_path,'quantized_processed_difference.gif', vmin=0, vmax=2)"
   ]
  },
  {
   "cell_type": "code",
   "execution_count": 48,
   "metadata": {},
   "outputs": [
    {
     "data": {
      "image/png": "[encoded data removed]",
      "text/plain": [
       "<Figure size 640x480 with 2 Axes>"
      ]
     },
     "metadata": {},
     "output_type": "display_data"
    }
   ],
   "source": [
    "%matplotlib inline\n",
    "\n",
    "xbin = np.logspace(np.log10(1e-3),np.log10(1.), 50)\n",
    "ybin = np.logspace(np.log10(1e-3),np.log10(10), 50)\n",
    "\n",
    "plt.hist2d( torch.abs(dataset.flatten()).numpy(), quantized_relative_difference_norm.flatten().numpy(), bins=[xbin,ybin], norm = colors.LogNorm())\n",
    "\n",
    "plt.gca().set_xscale(\"log\")\n",
    "plt.gca().set_yscale(\"log\")\n",
    "plt.colorbar(location='top')\n",
    "plt.xlabel('Absolute Pixel Value', fontsize=18)\n",
    "plt.ylabel('Relative Error', fontsize=18)\n",
    "\n",
    "plt.savefig(save_path / 'quantized_abs_rel_histogram.png', dpi = 300)"
   ]
  },
  {
   "cell_type": "code",
   "execution_count": 49,
   "metadata": {},
   "outputs": [
    {
     "data": {
      "image/png": "[encoded data removed]",
      "text/plain": [
       "<Figure size 640x480 with 1 Axes>"
      ]
     },
     "metadata": {},
     "output_type": "display_data"
    }
   ],
   "source": [
    "%matplotlib inline\n",
    "\n",
    "plt.hist(quantized_difference_norm.flatten(),bins=np.logspace(np.log10(1e-8),np.log10(1.0), 100), log=True)\n",
    "plt.gca().set_xscale(\"log\")\n",
    "plt.ylabel('Number of Pixels', fontsize=18)\n",
    "plt.xlabel('Absolute Error', fontsize=18)\n",
    "\n",
    "plt.axvline(x = torch.mean(quantized_difference_norm), color = 'orange', label = 'Mean Error')\n",
    "plt.annotate('Mean Error' , (torch.mean(quantized_difference_norm),3e4), xytext=(1e-5, 3e4), textcoords='data', arrowprops=dict(arrowstyle=\"->\",\n",
    "                            connectionstyle=\"arc3\"))\n",
    "\n",
    "plt.savefig(save_path / 'quantized_abs_error_histogram.png', dpi = 300)"
   ]
  }
 ],
 "metadata": {
  "kernelspec": {
   "display_name": "Python 3.9.13 ('compression')",
   "language": "python",
   "name": "python3"
  },
  "language_info": {
   "codemirror_mode": {
    "name": "ipython",
    "version": 3
   },
   "file_extension": ".py",
   "mimetype": "text/x-python",
   "name": "python",
   "nbconvert_exporter": "python",
   "pygments_lexer": "ipython3",
   "version": "3.9.13"
  },
  "orig_nbformat": 4,
  "vscode": {
   "interpreter": {
    "hash": "3595a7518770cc8b1ad85cc2141b6c74689cb686027c0002cbed6be65131a405"
   }
  }
 },
 "nbformat": 4,
 "nbformat_minor": 2
}
