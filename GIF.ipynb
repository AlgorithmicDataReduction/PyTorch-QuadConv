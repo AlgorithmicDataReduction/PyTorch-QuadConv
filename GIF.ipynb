{
 "cells": [
  {
   "cell_type": "code",
   "execution_count": 4,
   "id": "721c9b26",
   "metadata": {},
   "outputs": [],
   "source": [
    "import torch\n",
    "import pytorch_lightning as pl\n",
    "import numpy as np\n",
    "from core.data import GridDataModule\n",
    "from core.model import AutoEncoder\n",
    "from core.utilities import Logger, make_gif"
   ]
  },
  {
   "cell_type": "code",
   "execution_count": 9,
   "id": "3e199762",
   "metadata": {},
   "outputs": [
    {
     "name": "stderr",
     "output_type": "stream",
     "text": [
      "GPU available: True, used: True\n",
      "TPU available: False, using: 0 TPU cores\n",
      "IPU available: False, using: 0 IPUs\n",
      "HPU available: False, using: 0 HPUs\n"
     ]
    }
   ],
   "source": [
    "log_dir = 'lightning_logs/'\n",
    "version = 'ignition_cnn_center/'\n",
    "checkpoint = 'checkpoints/epoch=1892.ckpt'\n",
    "data_dir = 'data/ignition_center_cut'\n",
    "\n",
    "dm = GridDataModule(data_dir=data_dir,\n",
    "                    dimension=2,\n",
    "                    batch_size=512,\n",
    "                    size=50,\n",
    "                    stride=50,\n",
    "                    flatten=False,\n",
    "                    channels=[1])\n",
    "\n",
    "logger = Logger(save_dir=log_dir, \n",
    "                version=version)\n",
    "trainer = pl.Trainer(accelerator='gpu', devices=1, logger=logger)\n",
    "\n",
    "model = AutoEncoder.load_from_checkpoint(log_dir+version+checkpoint,\n",
    "                                         input_shape=dm.get_shape())"
   ]
  },
  {
   "cell_type": "code",
   "execution_count": 10,
   "id": "2d03dd22",
   "metadata": {},
   "outputs": [
    {
     "name": "stderr",
     "output_type": "stream",
     "text": [
      "LOCAL_RANK: 0 - CUDA_VISIBLE_DEVICES: [0]\n"
     ]
    },
    {
     "data": {
      "application/vnd.jupyter.widget-view+json": {
       "model_id": "1e69a59270274041b3920dbb9c4ca1d7",
       "version_major": 2,
       "version_minor": 0
      },
      "text/plain": [
       "Testing: 0it [00:00, ?it/s]"
      ]
     },
     "metadata": {},
     "output_type": "display_data"
    },
    {
     "name": "stdout",
     "output_type": "stream",
     "text": [
      "────────────────────────────────────────────────────────────────────────────────────────────────────────────────────────\n",
      "       Test metric             DataLoader 0\n",
      "────────────────────────────────────────────────────────────────────────────────────────────────────────────────────────\n",
      "     test_err_epoch         0.2745022475719452\n",
      "────────────────────────────────────────────────────────────────────────────────────────────────────────────────────────\n"
     ]
    },
    {
     "data": {
      "text/plain": [
       "[{'test_err_epoch': 0.2745022475719452}]"
      ]
     },
     "execution_count": 10,
     "metadata": {},
     "output_type": "execute_result"
    }
   ],
   "source": [
    "trainer.test(model=model, datamodule=dm)"
   ]
  },
  {
   "cell_type": "code",
   "execution_count": 12,
   "id": "cb0f4b17",
   "metadata": {},
   "outputs": [
    {
     "name": "stderr",
     "output_type": "stream",
     "text": [
      "LOCAL_RANK: 0 - CUDA_VISIBLE_DEVICES: [0]\n"
     ]
    },
    {
     "data": {
      "application/vnd.jupyter.widget-view+json": {
       "model_id": "2bc738405d864ebda4a77bb667ac7dc7",
       "version_major": 2,
       "version_minor": 0
      },
      "text/plain": [
       "Predicting: 0it [00:00, ?it/s]"
      ]
     },
     "metadata": {},
     "output_type": "display_data"
    }
   ],
   "source": [
    "dm.setup(stage=\"fit\")\n",
    "make_gif(trainer, dm, model)"
   ]
  },
  {
   "cell_type": "code",
   "execution_count": null,
   "id": "0fb6d2f1",
   "metadata": {},
   "outputs": [],
   "source": []
  }
 ],
 "metadata": {
  "kernelspec": {
   "display_name": "Python 3 (ipykernel)",
   "language": "python",
   "name": "python3"
  },
  "language_info": {
   "codemirror_mode": {
    "name": "ipython",
    "version": 3
   },
   "file_extension": ".py",
   "mimetype": "text/x-python",
   "name": "python",
   "nbconvert_exporter": "python",
   "pygments_lexer": "ipython3",
   "version": "3.9.12"
  }
 },
 "nbformat": 4,
 "nbformat_minor": 5
}
