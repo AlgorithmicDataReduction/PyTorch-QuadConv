{
 "cells": [
  {
   "cell_type": "markdown",
   "id": "83dd226d",
   "metadata": {},
   "source": [
    "# Relative Reconstruction Error"
   ]
  },
  {
   "cell_type": "code",
   "execution_count": 1,
   "id": "45bc2ecb",
   "metadata": {},
   "outputs": [],
   "source": [
    "import torch\n",
    "import pytorch_lightning as pl\n",
    "import numpy as np\n",
    "from core.data import GridDataModule\n",
    "from core.model import AutoEncoder"
   ]
  },
  {
   "cell_type": "code",
   "execution_count": 2,
   "id": "6e43ceb3",
   "metadata": {},
   "outputs": [
    {
     "name": "stderr",
     "output_type": "stream",
     "text": [
      "/home/rs-coop/anaconda3/envs/compression/lib/python3.9/site-packages/pytorch_lightning/loops/utilities.py:91: PossibleUserWarning: `max_epochs` was not set. Setting it to 1000 epochs. To train without an epoch limit, set `max_epochs=-1`.\n",
      "  rank_zero_warn(\n",
      "GPU available: True, used: True\n",
      "TPU available: False, using: 0 TPU cores\n",
      "IPU available: False, using: 0 IPUs\n",
      "HPU available: False, using: 0 HPUs\n"
     ]
    }
   ],
   "source": [
    "dm = GridDataModule(data_dir='data/ignition_square',\n",
    "                    dimension=2,\n",
    "                    batch_size=1,\n",
    "                    size=250,\n",
    "                    stride=250,\n",
    "                    flatten=False,\n",
    "                    channels=[1])\n",
    "\n",
    "trainer = pl.Trainer(accelerator='gpu', devices=1, logger=True)\n",
    "\n",
    "model = AutoEncoder.load_from_checkpoint('lightning_logs/blanca_ignition_cnn_full_1/checkpoints/epoch=1441-step=64890.ckpt',\n",
    "                                        input_shape=dm.get_shape())"
   ]
  },
  {
   "cell_type": "code",
   "execution_count": 3,
   "id": "1d14bf8b",
   "metadata": {},
   "outputs": [
    {
     "name": "stderr",
     "output_type": "stream",
     "text": [
      "LOCAL_RANK: 0 - CUDA_VISIBLE_DEVICES: [0]\n"
     ]
    },
    {
     "data": {
      "application/vnd.jupyter.widget-view+json": {
       "model_id": "1b2d221abc8544e7a76a89fbb321380a",
       "version_major": 2,
       "version_minor": 0
      },
      "text/plain": [
       "Testing: 0it [00:00, ?it/s]"
      ]
     },
     "metadata": {},
     "output_type": "display_data"
    },
    {
     "name": "stdout",
     "output_type": "stream",
     "text": [
      "────────────────────────────────────────────────────────────────────────────────────────────────────────────────────────\n",
      "       Test metric             DataLoader 0\n",
      "────────────────────────────────────────────────────────────────────────────────────────────────────────────────────────\n",
      "      val_err_epoch        0.026428304612636566\n",
      "────────────────────────────────────────────────────────────────────────────────────────────────────────────────────────\n"
     ]
    }
   ],
   "source": [
    "out = trainer.test(model=model, datamodule=dm)"
   ]
  },
  {
   "cell_type": "markdown",
   "id": "7bc83501",
   "metadata": {},
   "source": [
    "# Images/GIFs"
   ]
  },
  {
   "cell_type": "code",
   "execution_count": 3,
   "id": "9b871601",
   "metadata": {},
   "outputs": [],
   "source": [
    "import gif\n",
    "import matplotlib.pyplot as plt"
   ]
  },
  {
   "cell_type": "code",
   "execution_count": 4,
   "id": "eb7b1531",
   "metadata": {},
   "outputs": [
    {
     "name": "stderr",
     "output_type": "stream",
     "text": [
      "LOCAL_RANK: 0 - CUDA_VISIBLE_DEVICES: [0]\n"
     ]
    },
    {
     "data": {
      "application/vnd.jupyter.widget-view+json": {
       "model_id": "c141d9331ae249fcbdd81631a9324439",
       "version_major": 2,
       "version_minor": 0
      },
      "text/plain": [
       "Predicting: 0it [00:00, ?it/s]"
      ]
     },
     "metadata": {},
     "output_type": "display_data"
    }
   ],
   "source": [
    "pred = trainer.predict(model=model, datamodule=dm)\n",
    "pred = dm.agglomerate(pred)"
   ]
  },
  {
   "cell_type": "markdown",
   "id": "aa39990b",
   "metadata": {},
   "source": [
    "## Raw data"
   ]
  },
  {
   "cell_type": "code",
   "execution_count": 5,
   "id": "91539601",
   "metadata": {},
   "outputs": [],
   "source": [
    "domain = 'ignition_square'\n",
    "data_dir = f'data/{domain}/train.npy'\n",
    "\n",
    "data = torch.from_numpy(np.float32(np.load(data_dir)))\n",
    "data = data[...,1]\n",
    "\n",
    "mean = torch.mean(data, dim=(0,1,2), keepdim=True)\n",
    "stdv = torch.sqrt(torch.var(data, dim=(0,1,2), keepdim=True))\n",
    "stdv = torch.max(stdv, torch.tensor(1e-3))\n",
    "\n",
    "data = (data-mean)/stdv\n",
    "\n",
    "raw = data/(torch.max(np.abs(data))+1e-4)"
   ]
  },
  {
   "cell_type": "markdown",
   "id": "e8dbff05",
   "metadata": {},
   "source": [
    "## Make GIF"
   ]
  },
  {
   "cell_type": "code",
   "execution_count": 5,
   "id": "5846a28a",
   "metadata": {},
   "outputs": [],
   "source": [
    "@gif.frame\n",
    "def plot(i):\n",
    "    fig, ax = plt.subplots(1, 2, figsize=(10,10))\n",
    "    \n",
    "    ax[0].imshow(raw[i,:,:], vmin=-1, vmax=1, origin='lower')\n",
    "    ax[0].set_title(\"Raw Data\")\n",
    "    \n",
    "    ax[1].imshow(pred[i,:,:], vmin=-1, vmax=1, origin='lower')\n",
    "    ax[1].set_title(\"Reconstructed\")"
   ]
  },
  {
   "cell_type": "code",
   "execution_count": 10,
   "id": "e0e29022",
   "metadata": {},
   "outputs": [],
   "source": [
    "block = [i for i in range(200, 225)]\n",
    "frames = [plot(i) for i in block]    \n",
    "gif.save(frames, f'error_spike_{block[0]}_{block[-1]}.gif', duration=100)"
   ]
  },
  {
   "cell_type": "markdown",
   "id": "70a6ee03",
   "metadata": {},
   "source": [
    "## Make Image"
   ]
  },
  {
   "cell_type": "code",
   "execution_count": 39,
   "id": "5997d163",
   "metadata": {},
   "outputs": [
    {
     "data": {
      "text/plain": [
       "Text(0.5, 1.0, 'Reconstructed')"
      ]
     },
     "execution_count": 39,
     "metadata": {},
     "output_type": "execute_result"
    },
    {
     "data": {
      "image/png": "[encoded data removed]",
      "text/plain": [
       "<Figure size 720x720 with 2 Axes>"
      ]
     },
     "metadata": {
      "needs_background": "light"
     },
     "output_type": "display_data"
    }
   ],
   "source": [
    "t = 0\n",
    "\n",
    "fig, ax = plt.subplots(1, 2, figsize=(10,10))\n",
    "    \n",
    "ax[0].imshow(raw[t,:,:], vmin=-1, vmax=1, origin='lower')\n",
    "ax[0].set_title(\"Raw Data\")\n",
    "\n",
    "ax[1].imshow(pred[t,:,:], vmin=-1, vmax=1, origin='lower')\n",
    "ax[1].set_title(\"Reconstructed\")"
   ]
  },
  {
   "cell_type": "code",
   "execution_count": 40,
   "id": "7d29afc6",
   "metadata": {},
   "outputs": [],
   "source": [
    "fig.savefig(f\"error_{t}.png\")"
   ]
  },
  {
   "cell_type": "code",
   "execution_count": null,
   "id": "2afff8d6",
   "metadata": {},
   "outputs": [],
   "source": []
  }
 ],
 "metadata": {
  "kernelspec": {
   "display_name": "Python 3 (ipykernel)",
   "language": "python",
   "name": "python3"
  },
  "language_info": {
   "codemirror_mode": {
    "name": "ipython",
    "version": 3
   },
   "file_extension": ".py",
   "mimetype": "text/x-python",
   "name": "python",
   "nbconvert_exporter": "python",
   "pygments_lexer": "ipython3",
   "version": "3.9.12"
  }
 },
 "nbformat": 4,
 "nbformat_minor": 5
}
