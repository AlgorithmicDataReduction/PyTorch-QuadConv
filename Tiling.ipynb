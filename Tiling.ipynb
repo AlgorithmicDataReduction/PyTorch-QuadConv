{
 "cells": [
  {
   "cell_type": "code",
   "execution_count": 1,
   "id": "b4ce18dd",
   "metadata": {},
   "outputs": [],
   "source": [
    "from core.data import GridDataModule\n",
    "\n",
    "import torch\n",
    "import matplotlib.pyplot as plt"
   ]
  },
  {
   "cell_type": "code",
   "execution_count": 2,
   "id": "4fb7dc46",
   "metadata": {},
   "outputs": [],
   "source": [
    "data_dir = \"data/ignition_square\"\n",
    "dm = GridDataModule(data_dir, 2, 1, 50, 10, channels=[1])"
   ]
  },
  {
   "cell_type": "code",
   "execution_count": 3,
   "id": "3b59f11e",
   "metadata": {},
   "outputs": [
    {
     "data": {
      "text/plain": [
       "torch.Size([198450, 1, 2500])"
      ]
     },
     "execution_count": 3,
     "metadata": {},
     "output_type": "execute_result"
    }
   ],
   "source": [
    "dm.setup(stage=\"fit\")\n",
    "dm.train.dataset.shape"
   ]
  },
  {
   "cell_type": "code",
   "execution_count": 4,
   "id": "12706ed5",
   "metadata": {},
   "outputs": [],
   "source": [
    "# data = [torch.ones((81,1,2500))]\n",
    "data = [torch.ones((441,1,2500))]"
   ]
  },
  {
   "cell_type": "code",
   "execution_count": 5,
   "id": "6ef4161f",
   "metadata": {},
   "outputs": [
    {
     "data": {
      "text/plain": [
       "torch.Size([1, 250, 250])"
      ]
     },
     "execution_count": 5,
     "metadata": {},
     "output_type": "execute_result"
    }
   ],
   "source": [
    "out = dm.agglomerate(data)\n",
    "out.shape"
   ]
  },
  {
   "cell_type": "code",
   "execution_count": 6,
   "id": "680ce83e",
   "metadata": {},
   "outputs": [
    {
     "data": {
      "text/plain": [
       "<matplotlib.colorbar.Colorbar at 0x7f69fed65040>"
      ]
     },
     "execution_count": 6,
     "metadata": {},
     "output_type": "execute_result"
    },
    {
     "data": {
      "image/png": "[encoded data removed]",
      "text/plain": [
       "<Figure size 432x288 with 2 Axes>"
      ]
     },
     "metadata": {
      "needs_background": "light"
     },
     "output_type": "display_data"
    }
   ],
   "source": [
    "plt.imshow(out[0,...])\n",
    "plt.colorbar()"
   ]
  },
  {
   "cell_type": "code",
   "execution_count": null,
   "id": "950df2f4",
   "metadata": {},
   "outputs": [],
   "source": []
  }
 ],
 "metadata": {
  "kernelspec": {
   "display_name": "Python 3 (ipykernel)",
   "language": "python",
   "name": "python3"
  },
  "language_info": {
   "codemirror_mode": {
    "name": "ipython",
    "version": 3
   },
   "file_extension": ".py",
   "mimetype": "text/x-python",
   "name": "python",
   "nbconvert_exporter": "python",
   "pygments_lexer": "ipython3",
   "version": "3.9.12"
  }
 },
 "nbformat": 4,
 "nbformat_minor": 5
}
