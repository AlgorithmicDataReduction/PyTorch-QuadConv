{
 "cells": [
  {
   "cell_type": "code",
   "execution_count": 1,
   "id": "fbc91822",
   "metadata": {},
   "outputs": [],
   "source": [
    "import torch\n",
    "from torch import nn\n",
    "\n",
    "from core.quadconv import QuadConvLayer as QL"
   ]
  },
  {
   "cell_type": "code",
   "execution_count": 2,
   "id": "9c9f9d7a",
   "metadata": {},
   "outputs": [],
   "source": [
    "layer = QL(point_dim=2,\n",
    "            channels_in=1,\n",
    "            channels_out=4,\n",
    "            mlp_channels=[4,4])\n",
    "N = 50\n",
    "\n",
    "layer.set_quad(N)\n",
    "layer.set_output_locs(N)\n",
    "\n",
    "layer.cuda();"
   ]
  },
  {
   "cell_type": "code",
   "execution_count": 3,
   "id": "287ab0b8",
   "metadata": {},
   "outputs": [],
   "source": [
    "data = torch.ones(1, 1, N**2).cuda()\n",
    "\n",
    "layer(data);"
   ]
  },
  {
   "cell_type": "code",
   "execution_count": null,
   "id": "5e092793",
   "metadata": {},
   "outputs": [],
   "source": []
  }
 ],
 "metadata": {
  "kernelspec": {
   "display_name": "Python 3 (ipykernel)",
   "language": "python",
   "name": "python3"
  },
  "language_info": {
   "codemirror_mode": {
    "name": "ipython",
    "version": 3
   },
   "file_extension": ".py",
   "mimetype": "text/x-python",
   "name": "python",
   "nbconvert_exporter": "python",
   "pygments_lexer": "ipython3",
   "version": "3.9.12"
  }
 },
 "nbformat": 4,
 "nbformat_minor": 5
}
