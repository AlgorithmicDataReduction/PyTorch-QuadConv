{
 "cells": [
  {
   "cell_type": "code",
   "execution_count": 25,
   "id": "02939b56",
   "metadata": {},
   "outputs": [],
   "source": [
    "import torch\n",
    "import pytorch_lightning as pl\n",
    "from core.data import GridDataModule\n",
    "import gif\n",
    "import matplotlib.pyplot as plt"
   ]
  },
  {
   "cell_type": "code",
   "execution_count": 17,
   "id": "7410fc5f",
   "metadata": {},
   "outputs": [],
   "source": [
    "data_dir = 'data/ignition_center_cut/'\n",
    "channel = 0\n",
    "\n",
    "dm = GridDataModule(data_dir=data_dir, dimension=2, batch_size=128, size=25, stride=25, flatten=True, channels=[channel])"
   ]
  },
  {
   "cell_type": "code",
   "execution_count": 18,
   "id": "ba53745a",
   "metadata": {},
   "outputs": [],
   "source": [
    "class TestModel(pl.LightningModule):\n",
    "    def __init__(self):\n",
    "        super().__init__()\n",
    "        self.model = torch.nn.Identity()\n",
    "        \n",
    "    def forward(self, x):\n",
    "        return self.model(x)\n",
    "    \n",
    "    def predict_step(self, batch, idx):\n",
    "        return self(batch)\n",
    "    \n",
    "    def training_step(self, batch, idx):\n",
    "        pass\n",
    "    \n",
    "    def configure_optimizers(self):\n",
    "        pass"
   ]
  },
  {
   "cell_type": "code",
   "execution_count": 19,
   "id": "3138a464",
   "metadata": {},
   "outputs": [
    {
     "name": "stderr",
     "output_type": "stream",
     "text": [
      "GPU available: True, used: True\n",
      "TPU available: False, using: 0 TPU cores\n",
      "IPU available: False, using: 0 IPUs\n",
      "HPU available: False, using: 0 HPUs\n"
     ]
    }
   ],
   "source": [
    "model = TestModel()\n",
    "trainer = pl.Trainer(accelerator='gpu', devices=1)"
   ]
  },
  {
   "cell_type": "code",
   "execution_count": 20,
   "id": "fbc5f23a",
   "metadata": {},
   "outputs": [
    {
     "name": "stderr",
     "output_type": "stream",
     "text": [
      "LOCAL_RANK: 0 - CUDA_VISIBLE_DEVICES: [0]\n"
     ]
    },
    {
     "data": {
      "application/vnd.jupyter.widget-view+json": {
       "model_id": "e6d2a3d1725f4c768f92d7212fdce611",
       "version_major": 2,
       "version_minor": 0
      },
      "text/plain": [
       "Predicting: 0it [00:00, ?it/s]"
      ]
     },
     "metadata": {},
     "output_type": "display_data"
    }
   ],
   "source": [
    "results = trainer.predict(model, datamodule=dm)\n",
    "data = dm.aglomerate(results)"
   ]
  },
  {
   "cell_type": "code",
   "execution_count": 23,
   "id": "667be6ce",
   "metadata": {},
   "outputs": [
    {
     "data": {
      "text/plain": [
       "torch.Size([450, 50, 50, 1])"
      ]
     },
     "execution_count": 23,
     "metadata": {},
     "output_type": "execute_result"
    }
   ],
   "source": [
    "data.shape"
   ]
  },
  {
   "cell_type": "code",
   "execution_count": 26,
   "id": "dc63698c",
   "metadata": {},
   "outputs": [],
   "source": [
    "@gif.frame\n",
    "def plot(i):\n",
    "    plt.imshow(data[i,:,:,channel], vmin=-1, vmax=1, origin='lower')\n",
    "    plt.colorbar(location='top')"
   ]
  },
  {
   "cell_type": "code",
   "execution_count": 27,
   "id": "487a0484",
   "metadata": {},
   "outputs": [],
   "source": [
    "frames = []\n",
    "for i in range(data.shape[0]):\n",
    "    frames.append(plot(i))\n",
    "    \n",
    "gif.save(frames, f'test.gif', duration=50)"
   ]
  },
  {
   "cell_type": "code",
   "execution_count": null,
   "id": "d778b035",
   "metadata": {},
   "outputs": [],
   "source": []
  }
 ],
 "metadata": {
  "kernelspec": {
   "display_name": "Python 3 (ipykernel)",
   "language": "python",
   "name": "python3"
  },
  "language_info": {
   "codemirror_mode": {
    "name": "ipython",
    "version": 3
   },
   "file_extension": ".py",
   "mimetype": "text/x-python",
   "name": "python",
   "nbconvert_exporter": "python",
   "pygments_lexer": "ipython3",
   "version": "3.9.12"
  }
 },
 "nbformat": 4,
 "nbformat_minor": 5
}
