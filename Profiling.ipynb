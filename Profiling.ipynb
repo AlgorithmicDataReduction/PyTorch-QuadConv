{
 "cells": [
  {
   "cell_type": "code",
   "execution_count": 1,
   "id": "7513e4b8",
   "metadata": {},
   "outputs": [],
   "source": [
    "import torch\n",
    "import pytorch_lightning as pl\n",
    "import yaml\n",
    "\n",
    "from core.model import AutoEncoder\n",
    "from core.data import GridDataModule"
   ]
  },
  {
   "cell_type": "code",
   "execution_count": 2,
   "id": "701daaea",
   "metadata": {},
   "outputs": [],
   "source": [
    "with open(f\"experiments/profile.yml\", \"r\") as file:\n",
    "    config = yaml.safe_load(file)\n",
    "    \n",
    "train_args = config['train']\n",
    "model_args = config['model']\n",
    "data_args = config['data']"
   ]
  },
  {
   "cell_type": "code",
   "execution_count": 3,
   "id": "4466b667",
   "metadata": {},
   "outputs": [],
   "source": [
    "dm = GridDataModule(**data_args)\n",
    "model_args['input_shape'] = dm.get_shape()"
   ]
  },
  {
   "cell_type": "code",
   "execution_count": 4,
   "id": "eae99d60",
   "metadata": {},
   "outputs": [
    {
     "name": "stderr",
     "output_type": "stream",
     "text": [
      "GPU available: True, used: True\n",
      "TPU available: False, using: 0 TPU cores\n",
      "IPU available: False, using: 0 IPUs\n",
      "HPU available: False, using: 0 HPUs\n"
     ]
    }
   ],
   "source": [
    "from pytorch_lightning.profiler import SimpleProfiler as Profiler\n",
    "profiler = Profiler(dirpath='lightning_logs/', \n",
    "                    filename='profiler_results_sim')\n",
    "model = AutoEncoder(**model_args, profiler=profiler)\n",
    "trainer = pl.Trainer(**train_args, profiler=profiler)"
   ]
  },
  {
   "cell_type": "code",
   "execution_count": 5,
   "id": "6ab5ba6b",
   "metadata": {},
   "outputs": [
    {
     "name": "stderr",
     "output_type": "stream",
     "text": [
      "LOCAL_RANK: 0 - CUDA_VISIBLE_DEVICES: [0]\n",
      "\n",
      "  | Name              | Type    | Params\n",
      "----------------------------------------------\n",
      "0 | encoder           | Encoder | 20.8 K\n",
      "1 | decoder           | Decoder | 26.3 K\n",
      "2 | loss_fn           | MSELoss | 0     \n",
      "3 | output_activation | Tanh    | 0     \n",
      "----------------------------------------------\n",
      "26.4 K    Trainable params\n",
      "20.7 K    Non-trainable params\n",
      "47.1 K    Total params\n",
      "0.188     Total estimated model params size (MB)\n"
     ]
    },
    {
     "data": {
      "application/vnd.jupyter.widget-view+json": {
       "model_id": "177bb3c0031f4b469e1162002e19d905",
       "version_major": 2,
       "version_minor": 0
      },
      "text/plain": [
       "Training: 0it [00:00, ?it/s]"
      ]
     },
     "metadata": {},
     "output_type": "display_data"
    }
   ],
   "source": [
    "trainer.fit(model=model, datamodule=dm)"
   ]
  },
  {
   "cell_type": "code",
   "execution_count": null,
   "id": "d613bbdd",
   "metadata": {},
   "outputs": [],
   "source": []
  }
 ],
 "metadata": {
  "kernelspec": {
   "display_name": "Python 3 (ipykernel)",
   "language": "python",
   "name": "python3"
  },
  "language_info": {
   "codemirror_mode": {
    "name": "ipython",
    "version": 3
   },
   "file_extension": ".py",
   "mimetype": "text/x-python",
   "name": "python",
   "nbconvert_exporter": "python",
   "pygments_lexer": "ipython3",
   "version": "3.9.12"
  }
 },
 "nbformat": 4,
 "nbformat_minor": 5
}
