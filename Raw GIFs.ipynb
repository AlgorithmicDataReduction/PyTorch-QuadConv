{
 "cells": [
  {
   "cell_type": "code",
   "execution_count": 29,
   "id": "53865a4a",
   "metadata": {},
   "outputs": [],
   "source": [
    "import numpy as np\n",
    "import torch\n",
    "import gif\n",
    "import matplotlib.pyplot as plt"
   ]
  },
  {
   "cell_type": "code",
   "execution_count": 30,
   "id": "71ba3501",
   "metadata": {},
   "outputs": [],
   "source": [
    "domain = 'ignition_square'\n",
    "data_dir = f'data/{domain}/train.npy'"
   ]
  },
  {
   "cell_type": "code",
   "execution_count": 31,
   "id": "e9963dc6",
   "metadata": {},
   "outputs": [],
   "source": [
    "data = torch.from_numpy(np.float32(np.load(data_dir)))\n",
    "data = data[...,[0,1]]\n",
    "\n",
    "mean = torch.mean(data, dim=(0,1,2), keepdim=True)\n",
    "stdv = torch.sqrt(torch.var(data, dim=(0,1,2), keepdim=True))\n",
    "stdv = torch.max(stdv, torch.tensor(1e-3))\n",
    "\n",
    "data = (data-mean)/stdv\n",
    "\n",
    "data = data/(torch.max(np.abs(data))+1e-4)"
   ]
  },
  {
   "cell_type": "code",
   "execution_count": 32,
   "id": "0e3da25d",
   "metadata": {},
   "outputs": [
    {
     "data": {
      "text/plain": [
       "torch.Size([450, 250, 250, 2])"
      ]
     },
     "execution_count": 32,
     "metadata": {},
     "output_type": "execute_result"
    }
   ],
   "source": [
    "data.shape"
   ]
  },
  {
   "cell_type": "code",
   "execution_count": 33,
   "id": "3412cb11",
   "metadata": {},
   "outputs": [],
   "source": [
    "@gif.frame\n",
    "def plot(i, channel):\n",
    "    plt.imshow(data[i,:,:, channel], vmin=-1, vmax=1, origin='lower')\n",
    "    plt.colorbar(location='top')"
   ]
  },
  {
   "cell_type": "code",
   "execution_count": 34,
   "id": "71d2a43c",
   "metadata": {},
   "outputs": [],
   "source": [
    "for channel in [0,1]:\n",
    "    frames = []\n",
    "    for i in range(data.shape[0]):\n",
    "        frames.append(plot(i, channel))\n",
    "\n",
    "    gif.save(frames, f'{domain}_c{channel}.gif', duration=50)"
   ]
  },
  {
   "cell_type": "code",
   "execution_count": null,
   "id": "ec139406",
   "metadata": {},
   "outputs": [],
   "source": []
  }
 ],
 "metadata": {
  "kernelspec": {
   "display_name": "Python 3 (ipykernel)",
   "language": "python",
   "name": "python3"
  },
  "language_info": {
   "codemirror_mode": {
    "name": "ipython",
    "version": 3
   },
   "file_extension": ".py",
   "mimetype": "text/x-python",
   "name": "python",
   "nbconvert_exporter": "python",
   "pygments_lexer": "ipython3",
   "version": "3.9.12"
  }
 },
 "nbformat": 4,
 "nbformat_minor": 5
}
